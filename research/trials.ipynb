{
 "cells": [
  {
   "metadata": {
    "ExecuteTime": {
     "end_time": "2025-02-08T01:45:10.468588Z",
     "start_time": "2025-02-08T01:45:10.461590Z"
    }
   },
   "cell_type": "code",
   "source": [
    "import yaml\n",
    "yaml_file_path = 'TEST.yaml'\n",
    "\n",
    "with open(yaml_file_path, 'r') as yaml_file:\n",
    "    data=yaml.safe_load(yaml_file)\n",
    "print(data)"
   ],
   "id": "e946af81ad577dd4",
   "outputs": [
    {
     "name": "stdout",
     "output_type": "stream",
     "text": [
      "{'name': 'kaushal', 'email': 'ks7082365@gmail.com'}\n"
     ]
    }
   ],
   "execution_count": 2
  },
  {
   "metadata": {},
   "cell_type": "code",
   "outputs": [],
   "execution_count": null,
   "source": "",
   "id": "aef45e4faca23f32"
  }
 ],
 "metadata": {
  "kernelspec": {
   "name": "python3",
   "language": "python",
   "display_name": "Python 3 (ipykernel)"
  }
 },
 "nbformat": 5,
 "nbformat_minor": 9
}
