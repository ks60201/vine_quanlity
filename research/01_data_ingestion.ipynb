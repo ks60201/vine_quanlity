{
 "cells": [
  {
   "metadata": {
    "ExecuteTime": {
     "end_time": "2025-02-09T00:17:06.425964Z",
     "start_time": "2025-02-09T00:17:06.418791Z"
    }
   },
   "cell_type": "code",
   "source": "%pwd",
   "id": "fa761ac962411fe2",
   "outputs": [
    {
     "data": {
      "text/plain": [
       "'/Users/koushal/vine_quanlity/research'"
      ]
     },
     "execution_count": 1,
     "metadata": {},
     "output_type": "execute_result"
    }
   ],
   "execution_count": 1
  },
  {
   "metadata": {
    "ExecuteTime": {
     "end_time": "2025-02-09T00:17:27.332290Z",
     "start_time": "2025-02-09T00:17:27.326676Z"
    }
   },
   "cell_type": "code",
   "source": "import os",
   "id": "f109a1276110b661",
   "outputs": [],
   "execution_count": 2
  },
  {
   "metadata": {
    "ExecuteTime": {
     "end_time": "2025-02-09T00:17:54.993602Z",
     "start_time": "2025-02-09T00:17:54.986559Z"
    }
   },
   "cell_type": "code",
   "source": "os.chdir(\"../\")",
   "id": "27da0f41e092fb6a",
   "outputs": [],
   "execution_count": 3
  },
  {
   "metadata": {
    "ExecuteTime": {
     "end_time": "2025-02-09T00:18:01.393980Z",
     "start_time": "2025-02-09T00:18:01.389865Z"
    }
   },
   "cell_type": "code",
   "source": "%pwd",
   "id": "8d5e9c47d2d7b025",
   "outputs": [
    {
     "data": {
      "text/plain": [
       "'/Users/koushal/vine_quanlity'"
      ]
     },
     "execution_count": 4,
     "metadata": {},
     "output_type": "execute_result"
    }
   ],
   "execution_count": 4
  },
  {
   "metadata": {
    "ExecuteTime": {
     "end_time": "2025-02-09T00:18:12.157202Z",
     "start_time": "2025-02-09T00:18:12.148293Z"
    }
   },
   "cell_type": "code",
   "source": [
    "from dataclasses import dataclass\n",
    "from pathlib import Path\n",
    "\n",
    "\n",
    "@dataclass(frozen=True)\n",
    "class DataIngestionConfig:\n",
    "    root_dir: Path\n",
    "    source_URL: str\n",
    "    local_data_file: Path\n",
    "    unzip_dir: Path"
   ],
   "id": "f3c7ce739ecdcc98",
   "outputs": [],
   "execution_count": 5
  },
  {
   "metadata": {
    "ExecuteTime": {
     "end_time": "2025-02-09T00:37:30.098138Z",
     "start_time": "2025-02-09T00:37:29.480189Z"
    }
   },
   "cell_type": "code",
   "source": [
    "import os\n",
    "import yaml\n",
    "import requests\n",
    "\n",
    "\n",
    "class ConfigurationManager:\n",
    "    def __init__(self, config_file_path=\"config/config.yaml\"):\n",
    "        self.config_file_path = config_file_path\n",
    "        self.config = self.read_yaml()\n",
    "\n",
    "    def read_yaml(self):\n",
    "        \"\"\"\n",
    "        Reads the YAML configuration file.\n",
    "        \"\"\"\n",
    "        try:\n",
    "            with open(self.config_file_path, \"r\") as file:\n",
    "                config = yaml.safe_load(file)\n",
    "            return config\n",
    "        except FileNotFoundError:\n",
    "            raise Exception(f\"Configuration file not found at {self.config_file_path}.\")\n",
    "        except yaml.YAMLError as e:\n",
    "            raise Exception(f\"Error parsing the YAML file: {e}\")\n",
    "\n",
    "    def get_data_ingestion_config(self):\n",
    "        \"\"\"\n",
    "        Get the data ingestion configuration.\n",
    "        \"\"\"\n",
    "        try:\n",
    "            return self.config[\"data_ingestion\"]\n",
    "        except KeyError:\n",
    "            raise Exception(\"Key 'data_ingestion' not found in the configuration file.\")\n",
    "\n",
    "\n",
    "class DataIngestion:\n",
    "    def __init__(self, config):\n",
    "        self.config = config\n",
    "\n",
    "    def download_file(self):\n",
    "        \"\"\"\n",
    "        Download the file from the source URL and save it to the local path.\n",
    "        \"\"\"\n",
    "        source_url = self.config[\"source_URL\"]\n",
    "        local_file_path = self.config[\"local_data_file\"]\n",
    "        root_dir = self.config[\"root_dir\"]\n",
    "\n",
    "        # Ensure the root directory exists\n",
    "        os.makedirs(root_dir, exist_ok=True)\n",
    "\n",
    "        try:\n",
    "            print(f\"Downloading data from {source_url}...\")\n",
    "            response = requests.get(source_url, stream=True)\n",
    "            response.raise_for_status()  # Raise an error for invalid status codes\n",
    "\n",
    "            # Save the file locally\n",
    "            with open(local_file_path, \"wb\") as file:\n",
    "                for chunk in response.iter_content(chunk_size=1024):\n",
    "                    if chunk:\n",
    "                        file.write(chunk)\n",
    "\n",
    "            print(f\"File downloaded successfully: {local_file_path}\")\n",
    "\n",
    "        except requests.exceptions.RequestException as e:\n",
    "            raise Exception(f\"Error downloading the file: {e}\")\n",
    "\n",
    "    def extract_zip_file(self):\n",
    "        \"\"\"\n",
    "        Extract the ZIP file to the target directory.\n",
    "        \"\"\"\n",
    "        import zipfile\n",
    "\n",
    "        local_file_path = self.config[\"local_data_file\"]\n",
    "        unzip_dir = self.config[\"unzip_dir\"]\n",
    "\n",
    "        # Ensure the unzip directory exists\n",
    "        os.makedirs(unzip_dir, exist_ok=True)\n",
    "\n",
    "        try:\n",
    "            print(f\"Extracting {local_file_path} to {unzip_dir}...\")\n",
    "            with zipfile.ZipFile(local_file_path, \"r\") as zip_ref:\n",
    "                zip_ref.extractall(unzip_dir)\n",
    "            print(f\"Extraction completed successfully.\")\n",
    "        except zipfile.BadZipFile as e:\n",
    "            raise Exception(f\"Error extracting the ZIP file: {e}\")\n",
    "\n",
    "\n",
    "# Example Usage\n",
    "if __name__ == \"__main__\":\n",
    "    try:\n",
    "        # Load configuration\n",
    "        config = ConfigurationManager()\n",
    "        data_ingestion_config = config.get_data_ingestion_config()\n",
    "\n",
    "        # Create and run data ingestion\n",
    "        data_ingestion = DataIngestion(data_ingestion_config)\n",
    "        data_ingestion.download_file()\n",
    "        data_ingestion.extract_zip_file()\n",
    "\n",
    "    except Exception as e:\n",
    "        print(f\"Error: {e}\")\n"
   ],
   "id": "a0a3c71cc5dbbbb3",
   "outputs": [
    {
     "name": "stdout",
     "output_type": "stream",
     "text": [
      "Downloading data from https://github.com/entbappy/Branching-tutorial/raw/master/winequality-data.zip...\n",
      "File downloaded successfully: artifacts/data_ingestion/data.zip\n",
      "Extracting artifacts/data_ingestion/data.zip to artifacts/data_ingestion...\n",
      "Extraction completed successfully.\n"
     ]
    }
   ],
   "execution_count": 21
  },
  {
   "metadata": {},
   "cell_type": "code",
   "outputs": [],
   "execution_count": null,
   "source": "",
   "id": "5db5732c56217598"
  }
 ],
 "metadata": {
  "kernelspec": {
   "name": "python3",
   "language": "python",
   "display_name": "Python 3 (ipykernel)"
  }
 },
 "nbformat": 5,
 "nbformat_minor": 9
}
